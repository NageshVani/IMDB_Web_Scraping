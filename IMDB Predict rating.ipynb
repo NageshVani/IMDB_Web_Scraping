{
 "cells": [
  {
   "cell_type": "markdown",
   "metadata": {},
   "source": [
    "## Task-2 - \n",
    "\n",
    "Assuming the success factor to be the IMDB rating of a movie, building a model to predict\n",
    "these ratings given a subset of variables from (Task-1) the data collection exercise.\n",
    "\n",
    "Estimating the effect of each of the variables on the output variable. Selecting a subset of these variables for building our model, we are trying to see if IMDB ratings can be predicted to certain degree to help create winning combinations for movie makers.\n",
    "\n",
    "### Model Building\n",
    "\n",
    "The dataset is divided into 80% train and 20% test and try out multiple methods to arrive at the best output. Both MAPE\n",
    "(Mean absolute percentage error) and RMSE evaluation metrics are used on the test dataset to report the performance."
   ]
  },
  {
   "cell_type": "markdown",
   "metadata": {
    "hideCode": false,
    "hidePrompt": false
   },
   "source": [
    "#### CONTENTS\n",
    "\n",
    "[1. Overview of data](#1.0-Overview-of-the-data)\n",
    "\n",
    "[2. Data Re-Structuring](#2.0-Data-Re-structuring)\n",
    "\n",
    "[3. Part 3 - Data Exploration and cleaning](#3.0-Data-Exploration-and-cleaning)\n",
    "\n",
    "[4. Concatenate dataframes and export CSV](#4.0-Cocatenate-dataframes-and-export-to-CSV)\n",
    "\n",
    "[End Notes](#End-Notes)"
   ]
  },
  {
   "cell_type": "code",
   "execution_count": 1,
   "metadata": {
    "hideCode": false,
    "hidePrompt": false
   },
   "outputs": [],
   "source": [
    "# Basic packages\n",
    "import numpy as np # linear algebra\n",
    "import pandas as pd # data processing, CSV file I/O (e.g. pd.read_csv)\n",
    "import random as rd # generating random numbers\n",
    "import datetime # manipulating date formats\n",
    "import requests\n",
    "\n",
    "# Vizulization\n",
    "import matplotlib\n",
    "import matplotlib.pyplot as plt # basic plotting\n",
    "import seaborn as sns # for prettier plots\n",
    "\n",
    "# Plot settings\n",
    "plt.style.use('seaborn') # URL for style sheets (https://matplotlib.org/gallery/style_sheets/style_sheets_reference.html)\n",
    "matplotlib.rcParams['axes.titlesize'] = 16\n",
    "matplotlib.rcParams['axes.labelsize'] = 14\n",
    "matplotlib.rcParams['xtick.labelsize'] = 12\n",
    "matplotlib.rcParams['ytick.labelsize'] = 12\n",
    "matplotlib.rcParams['text.color'] = 'k'\n",
    "\n",
    "# warning settings\n",
    "import warnings\n",
    "warnings.filterwarnings(\"ignore\")"
   ]
  },
  {
   "cell_type": "markdown",
   "metadata": {
    "hideCode": false,
    "hidePrompt": false
   },
   "source": [
    "#### 1.0 Overview of the data\n",
    "\n",
    " - Checking data structure, \n",
    " - Rename columns for ease of coding\n",
    " - Obtaining missing and unique values from each column\n",
    " - Obtaining categorical and numerical variables"
   ]
  },
  {
   "cell_type": "code",
   "execution_count": 2,
   "metadata": {
    "hideCode": false,
    "hidePrompt": false
   },
   "outputs": [],
   "source": [
    "# Importing csv files \n",
    "dataset = pd.read_csv('data/imdb_web_scraping.csv')"
   ]
  },
  {
   "cell_type": "code",
   "execution_count": 3,
   "metadata": {
    "hideCode": false,
    "hidePrompt": false,
    "scrolled": true
   },
   "outputs": [
    {
     "data": {
      "text/html": [
       "<div>\n",
       "<style scoped>\n",
       "    .dataframe tbody tr th:only-of-type {\n",
       "        vertical-align: middle;\n",
       "    }\n",
       "\n",
       "    .dataframe tbody tr th {\n",
       "        vertical-align: top;\n",
       "    }\n",
       "\n",
       "    .dataframe thead th {\n",
       "        text-align: right;\n",
       "    }\n",
       "</style>\n",
       "<table border=\"1\" class=\"dataframe\">\n",
       "  <thead>\n",
       "    <tr style=\"text-align: right;\">\n",
       "      <th></th>\n",
       "      <th>Name of the movie</th>\n",
       "      <th>Link</th>\n",
       "      <th>Year released</th>\n",
       "      <th>IMDB rating</th>\n",
       "      <th>Reviewers</th>\n",
       "      <th>Movie_rating</th>\n",
       "      <th>Movie_duration</th>\n",
       "      <th>Genre1</th>\n",
       "      <th>Genre2</th>\n",
       "      <th>Genre3</th>\n",
       "      <th>...</th>\n",
       "      <th>Stars4</th>\n",
       "      <th>Stars5</th>\n",
       "      <th>PlotKeywords</th>\n",
       "      <th>Budget_curr</th>\n",
       "      <th>Budget_val</th>\n",
       "      <th>Gross_USA_curr</th>\n",
       "      <th>Gross_USA_val</th>\n",
       "      <th>Cum_Gross_Worldwide_curr</th>\n",
       "      <th>Cum_Gross_Worldwide_val</th>\n",
       "      <th>Production_Company</th>\n",
       "    </tr>\n",
       "  </thead>\n",
       "  <tbody>\n",
       "    <tr>\n",
       "      <th>0</th>\n",
       "      <td>The Shawshank Redemption</td>\n",
       "      <td>/title/tt0111161/?pf_rd_m=A2FGELUUNOQJNL&amp;pf_rd...</td>\n",
       "      <td>1994.0</td>\n",
       "      <td>9.2</td>\n",
       "      <td>2045328.0</td>\n",
       "      <td>A</td>\n",
       "      <td>2h 22min</td>\n",
       "      <td>Drama</td>\n",
       "      <td></td>\n",
       "      <td></td>\n",
       "      <td>...</td>\n",
       "      <td></td>\n",
       "      <td></td>\n",
       "      <td>wrongful imprisonment| escape from prison| bas...</td>\n",
       "      <td>USD</td>\n",
       "      <td>25000000.0</td>\n",
       "      <td>USD</td>\n",
       "      <td>28341469.0</td>\n",
       "      <td>USD</td>\n",
       "      <td>5.850000e+07</td>\n",
       "      <td>Castle Rock Entertainment</td>\n",
       "    </tr>\n",
       "    <tr>\n",
       "      <th>1</th>\n",
       "      <td>The Godfather</td>\n",
       "      <td>/title/tt0068646/?pf_rd_m=A2FGELUUNOQJNL&amp;pf_rd...</td>\n",
       "      <td>1972.0</td>\n",
       "      <td>9.2</td>\n",
       "      <td>1402791.0</td>\n",
       "      <td>A</td>\n",
       "      <td>2h 55min</td>\n",
       "      <td>Crime</td>\n",
       "      <td>Drama</td>\n",
       "      <td></td>\n",
       "      <td>...</td>\n",
       "      <td></td>\n",
       "      <td></td>\n",
       "      <td>mafia| crime family| patriarch| organized crim...</td>\n",
       "      <td>USD</td>\n",
       "      <td>6000000.0</td>\n",
       "      <td>USD</td>\n",
       "      <td>134966411.0</td>\n",
       "      <td>USD</td>\n",
       "      <td>2.450664e+08</td>\n",
       "      <td>Paramount Pictures, Alfran Productions</td>\n",
       "    </tr>\n",
       "    <tr>\n",
       "      <th>2</th>\n",
       "      <td>The Godfather: Part II</td>\n",
       "      <td>/title/tt0071562/?pf_rd_m=A2FGELUUNOQJNL&amp;pf_rd...</td>\n",
       "      <td>1974.0</td>\n",
       "      <td>9.0</td>\n",
       "      <td>972533.0</td>\n",
       "      <td>NaN</td>\n",
       "      <td>3h 22min</td>\n",
       "      <td>Crime</td>\n",
       "      <td>Drama</td>\n",
       "      <td></td>\n",
       "      <td>...</td>\n",
       "      <td></td>\n",
       "      <td></td>\n",
       "      <td>revenge| corrupt politician| bloody body of ch...</td>\n",
       "      <td>USD</td>\n",
       "      <td>13000000.0</td>\n",
       "      <td>USD</td>\n",
       "      <td>57300000.0</td>\n",
       "      <td>NaN</td>\n",
       "      <td>0.000000e+00</td>\n",
       "      <td>Paramount Pictures, The Coppola Company</td>\n",
       "    </tr>\n",
       "    <tr>\n",
       "      <th>3</th>\n",
       "      <td>The Dark Knight</td>\n",
       "      <td>/title/tt0468569/?pf_rd_m=A2FGELUUNOQJNL&amp;pf_rd...</td>\n",
       "      <td>2008.0</td>\n",
       "      <td>9.0</td>\n",
       "      <td>2012714.0</td>\n",
       "      <td>UA</td>\n",
       "      <td>2h 32min</td>\n",
       "      <td>Action</td>\n",
       "      <td>Crime</td>\n",
       "      <td>Drama</td>\n",
       "      <td>...</td>\n",
       "      <td></td>\n",
       "      <td></td>\n",
       "      <td>dc comics| moral dilemma| psychopath| clown| s...</td>\n",
       "      <td>USD</td>\n",
       "      <td>185000000.0</td>\n",
       "      <td>USD</td>\n",
       "      <td>534858444.0</td>\n",
       "      <td>USD</td>\n",
       "      <td>1.004558e+09</td>\n",
       "      <td>Warner Bros., Legendary Entertainment, Syncopy</td>\n",
       "    </tr>\n",
       "    <tr>\n",
       "      <th>4</th>\n",
       "      <td>12 Angry Men</td>\n",
       "      <td>/title/tt0050083/?pf_rd_m=A2FGELUUNOQJNL&amp;pf_rd...</td>\n",
       "      <td>1957.0</td>\n",
       "      <td>8.9</td>\n",
       "      <td>576027.0</td>\n",
       "      <td>NaN</td>\n",
       "      <td>1h 36min</td>\n",
       "      <td>Drama</td>\n",
       "      <td></td>\n",
       "      <td></td>\n",
       "      <td>...</td>\n",
       "      <td></td>\n",
       "      <td></td>\n",
       "      <td>jury| dialogue driven| courtroom| single set p...</td>\n",
       "      <td>USD</td>\n",
       "      <td>350000.0</td>\n",
       "      <td>USD</td>\n",
       "      <td>4360000.0</td>\n",
       "      <td>NaN</td>\n",
       "      <td>0.000000e+00</td>\n",
       "      <td>Orion-Nova Productions</td>\n",
       "    </tr>\n",
       "  </tbody>\n",
       "</table>\n",
       "<p>5 rows × 30 columns</p>\n",
       "</div>"
      ],
      "text/plain": [
       "          Name of the movie  \\\n",
       "0  The Shawshank Redemption   \n",
       "1             The Godfather   \n",
       "2    The Godfather: Part II   \n",
       "3           The Dark Knight   \n",
       "4              12 Angry Men   \n",
       "\n",
       "                                                Link  Year released  \\\n",
       "0  /title/tt0111161/?pf_rd_m=A2FGELUUNOQJNL&pf_rd...         1994.0   \n",
       "1  /title/tt0068646/?pf_rd_m=A2FGELUUNOQJNL&pf_rd...         1972.0   \n",
       "2  /title/tt0071562/?pf_rd_m=A2FGELUUNOQJNL&pf_rd...         1974.0   \n",
       "3  /title/tt0468569/?pf_rd_m=A2FGELUUNOQJNL&pf_rd...         2008.0   \n",
       "4  /title/tt0050083/?pf_rd_m=A2FGELUUNOQJNL&pf_rd...         1957.0   \n",
       "\n",
       "   IMDB rating  Reviewers Movie_rating Movie_duration  Genre1  Genre2  Genre3  \\\n",
       "0          9.2  2045328.0            A       2h 22min   Drama                   \n",
       "1          9.2  1402791.0            A       2h 55min   Crime   Drama           \n",
       "2          9.0   972533.0          NaN       3h 22min   Crime   Drama           \n",
       "3          9.0  2012714.0           UA       2h 32min  Action   Crime   Drama   \n",
       "4          8.9   576027.0          NaN       1h 36min   Drama                   \n",
       "\n",
       "                        ...                       Stars4 Stars5  \\\n",
       "0                       ...                                       \n",
       "1                       ...                                       \n",
       "2                       ...                                       \n",
       "3                       ...                                       \n",
       "4                       ...                                       \n",
       "\n",
       "                                        PlotKeywords Budget_curr   Budget_val  \\\n",
       "0  wrongful imprisonment| escape from prison| bas...         USD   25000000.0   \n",
       "1  mafia| crime family| patriarch| organized crim...         USD    6000000.0   \n",
       "2  revenge| corrupt politician| bloody body of ch...         USD   13000000.0   \n",
       "3  dc comics| moral dilemma| psychopath| clown| s...         USD  185000000.0   \n",
       "4  jury| dialogue driven| courtroom| single set p...         USD     350000.0   \n",
       "\n",
       "  Gross_USA_curr Gross_USA_val Cum_Gross_Worldwide_curr  \\\n",
       "0            USD    28341469.0                      USD   \n",
       "1            USD   134966411.0                      USD   \n",
       "2            USD    57300000.0                      NaN   \n",
       "3            USD   534858444.0                      USD   \n",
       "4            USD     4360000.0                      NaN   \n",
       "\n",
       "  Cum_Gross_Worldwide_val                              Production_Company  \n",
       "0            5.850000e+07                       Castle Rock Entertainment  \n",
       "1            2.450664e+08          Paramount Pictures, Alfran Productions  \n",
       "2            0.000000e+00         Paramount Pictures, The Coppola Company  \n",
       "3            1.004558e+09  Warner Bros., Legendary Entertainment, Syncopy  \n",
       "4            0.000000e+00                          Orion-Nova Productions  \n",
       "\n",
       "[5 rows x 30 columns]"
      ]
     },
     "execution_count": 3,
     "metadata": {},
     "output_type": "execute_result"
    }
   ],
   "source": [
    "dataset.head()"
   ]
  },
  {
   "cell_type": "code",
   "execution_count": 4,
   "metadata": {},
   "outputs": [
    {
     "data": {
      "text/plain": [
       "Index(['Name of the movie', 'Link', 'Year released', 'IMDB rating',\n",
       "       'Reviewers', 'Movie_rating', 'Movie_duration', 'Genre1', 'Genre2',\n",
       "       'Genre3', 'Genre4', 'Release_date', 'Summary', 'Director', 'Writer1',\n",
       "       'Writer2', 'Writer3', 'Stars1', 'Stars2', 'Stars3', 'Stars4', 'Stars5',\n",
       "       'PlotKeywords', 'Budget_curr', 'Budget_val', 'Gross_USA_curr',\n",
       "       'Gross_USA_val', 'Cum_Gross_Worldwide_curr', 'Cum_Gross_Worldwide_val',\n",
       "       'Production_Company'],\n",
       "      dtype='object')"
      ]
     },
     "execution_count": 4,
     "metadata": {},
     "output_type": "execute_result"
    }
   ],
   "source": [
    "dataset.columns"
   ]
  },
  {
   "cell_type": "code",
   "execution_count": 5,
   "metadata": {},
   "outputs": [],
   "source": [
    "# renaming the columns for ease of coding\n",
    "dataset=dataset.rename(columns = {'Name of the movie':'Title'})\n",
    "dataset=dataset.rename(columns = {'Year released':'Year_released'})\n",
    "dataset=dataset.rename(columns = {'IMDB rating':'IMDB_rating'})"
   ]
  },
  {
   "cell_type": "code",
   "execution_count": 6,
   "metadata": {
    "hideCode": false,
    "hidePrompt": false,
    "scrolled": true
   },
   "outputs": [
    {
     "data": {
      "text/plain": [
       "Year_released              0\n",
       "IMDB_rating                0\n",
       "Reviewers                  0\n",
       "Budget_val                 0\n",
       "Gross_USA_val              0\n",
       "Cum_Gross_Worldwide_val    0\n",
       "dtype: int64"
      ]
     },
     "execution_count": 6,
     "metadata": {},
     "output_type": "execute_result"
    }
   ],
   "source": [
    "num_col = [x for x in dataset.dtypes.index if dataset.dtypes[x]=='float64' or dataset.dtypes[x]=='int64']\n",
    "dataset[num_col].isnull().sum()"
   ]
  },
  {
   "cell_type": "code",
   "execution_count": 7,
   "metadata": {},
   "outputs": [
    {
     "data": {
      "text/plain": [
       "Title                        0\n",
       "Link                         0\n",
       "Movie_rating                93\n",
       "Movie_duration               0\n",
       "Genre1                       0\n",
       "Genre2                       0\n",
       "Genre3                       0\n",
       "Genre4                       0\n",
       "Release_date                 0\n",
       "Summary                      0\n",
       "Director                    23\n",
       "Writer1                      0\n",
       "Writer2                      0\n",
       "Writer3                      0\n",
       "Stars1                       0\n",
       "Stars2                       0\n",
       "Stars3                       0\n",
       "Stars4                       0\n",
       "Stars5                       0\n",
       "PlotKeywords                 1\n",
       "Budget_curr                 28\n",
       "Gross_USA_curr              29\n",
       "Cum_Gross_Worldwide_curr    96\n",
       "Production_Company           5\n",
       "dtype: int64"
      ]
     },
     "execution_count": 7,
     "metadata": {},
     "output_type": "execute_result"
    }
   ],
   "source": [
    "num_col2 = [x for x in dataset.dtypes.index if dataset.dtypes[x]=='object']\n",
    "dataset[num_col2].isnull().sum()"
   ]
  },
  {
   "cell_type": "code",
   "execution_count": 8,
   "metadata": {},
   "outputs": [],
   "source": [
    "# Obtaining list of columns with missing values\n",
    "missing_val = dataset.isnull().sum()\n",
    "missing_val = missing_val[missing_val>0]\n",
    "missing_val.sort_values(inplace=True)"
   ]
  },
  {
   "cell_type": "code",
   "execution_count": 9,
   "metadata": {},
   "outputs": [
    {
     "data": {
      "text/plain": [
       "PlotKeywords                 1\n",
       "Production_Company           5\n",
       "Director                    23\n",
       "Budget_curr                 28\n",
       "Gross_USA_curr              29\n",
       "Movie_rating                93\n",
       "Cum_Gross_Worldwide_curr    96\n",
       "dtype: int64"
      ]
     },
     "execution_count": 9,
     "metadata": {},
     "output_type": "execute_result"
    }
   ],
   "source": [
    "missing_val"
   ]
  },
  {
   "cell_type": "code",
   "execution_count": 10,
   "metadata": {},
   "outputs": [
    {
     "name": "stdout",
     "output_type": "stream",
     "text": [
      "Title -  250\n",
      "Link -  250\n",
      "Year_released -  83\n",
      "IMDB_rating -  12\n",
      "Reviewers -  250\n",
      "Movie_rating -  9\n",
      "Movie_duration -  106\n",
      "Genre1 -  12\n",
      "Genre2 -  21\n",
      "Genre3 -  18\n",
      "Genre4 -  15\n",
      "Release_date -  246\n",
      "Summary -  240\n",
      "Director -  140\n",
      "Writer1 -  220\n",
      "Writer2 -  186\n",
      "Writer3 -  1\n",
      "Stars1 -  182\n",
      "Stars2 -  230\n",
      "Stars3 -  240\n",
      "Stars4 -  1\n",
      "Stars5 -  1\n",
      "PlotKeywords -  250\n",
      "Budget_curr -  12\n",
      "Budget_val -  135\n",
      "Gross_USA_curr -  2\n",
      "Gross_USA_val -  217\n",
      "Cum_Gross_Worldwide_curr -  2\n",
      "Cum_Gross_Worldwide_val -  154\n",
      "Production_Company -  212\n"
     ]
    }
   ],
   "source": [
    "# Obtaining count of unique values in each column\n",
    "num_col = dataset.columns\n",
    "for i in dataset.columns:\n",
    "    print(i, \"- \",len(dataset[i].unique()))"
   ]
  },
  {
   "cell_type": "markdown",
   "metadata": {},
   "source": [
    "#### Missing values (categorical variables)"
   ]
  },
  {
   "cell_type": "code",
   "execution_count": 11,
   "metadata": {},
   "outputs": [],
   "source": [
    "# replacing NaN in movie rating with none\n",
    "dataset.Movie_rating[dataset['Movie_rating'].isnull()]='Not_Available'\n",
    "# replacing NaN in Director column with 'Not_Available'\n",
    "dataset.Director[dataset['Director'].isnull()]='Not_Available'"
   ]
  },
  {
   "cell_type": "markdown",
   "metadata": {},
   "source": [
    "----"
   ]
  },
  {
   "cell_type": "markdown",
   "metadata": {},
   "source": [
    "### 2.0 Visualization"
   ]
  },
  {
   "cell_type": "markdown",
   "metadata": {},
   "source": [
    "### Hypothesis\n",
    "\n",
    "The key drivers of IMDB rating may be the following variables\n",
    "- __Budget__: A high budget movie may have all the right cast, story and the 'wow' factor and invariably rated well\n",
    "- __Production company__: is corelating to the above, but popular production company who have produced blockbuster movies may also get higher IMDB ratings\n",
    "- __Marketing__: Marketing of the movie also plays a major role. Using right media and timing can also define success of a movie.\n",
    "- __Genre__: Action / Drama movies are generally popular\n",
    "- __Stars / Actors__: Due to the popularity of actor(s), movie may simply do well in the box office and accordingly gain higher rating\n",
    "- __Release Date__: Movies released during holidays (Easter, Summer or Christmas) may have chances of high viewability and accordingly attract critics and IMDB rating\n",
    "\n",
    "> IMDB being the 'Internet Movie Database' the rating may mainly depend on the __reviewers__"
   ]
  },
  {
   "cell_type": "code",
   "execution_count": 12,
   "metadata": {},
   "outputs": [
    {
     "data": {
      "text/plain": [
       "Index(['Title', 'Link', 'Year_released', 'IMDB_rating', 'Reviewers',\n",
       "       'Movie_rating', 'Movie_duration', 'Genre1', 'Genre2', 'Genre3',\n",
       "       'Genre4', 'Release_date', 'Summary', 'Director', 'Writer1', 'Writer2',\n",
       "       'Writer3', 'Stars1', 'Stars2', 'Stars3', 'Stars4', 'Stars5',\n",
       "       'PlotKeywords', 'Budget_curr', 'Budget_val', 'Gross_USA_curr',\n",
       "       'Gross_USA_val', 'Cum_Gross_Worldwide_curr', 'Cum_Gross_Worldwide_val',\n",
       "       'Production_Company'],\n",
       "      dtype='object')"
      ]
     },
     "execution_count": 12,
     "metadata": {},
     "output_type": "execute_result"
    }
   ],
   "source": [
    "dataset.columns"
   ]
  },
  {
   "cell_type": "code",
   "execution_count": 13,
   "metadata": {},
   "outputs": [
    {
     "data": {
      "image/png": "[encoded data removed]",
      "text/plain": [
       "<Figure size 1080x720 with 4 Axes>"
      ]
     },
     "metadata": {
      "needs_background": "light"
     },
     "output_type": "display_data"
    }
   ],
   "source": [
    "# IMDB distribution bar plot\n",
    "plt.figure(figsize=(15,10))\n",
    "\n",
    "plt.subplot(2,2,1)\n",
    "ordr1=dataset.groupby([\"IMDB_rating\"]).count().index\n",
    "sns.countplot(data=dataset, x='IMDB_rating', label=True, order=ordr1)\n",
    "plt.title('IMDB rating distribution')\n",
    "plt.ylabel('Count of Movies')\n",
    "plt.xticks(rotation=60)\n",
    "\n",
    "# Average cumulative gross worldwide bar plot\n",
    "plt.subplot(2,2,2)\n",
    "mean_gross = dataset.groupby(['Year_released'])[['Cum_Gross_Worldwide_val']].mean().astype(int)\n",
    "a1=mean_gross.sort_values(by='Cum_Gross_Worldwide_val',ascending=False)\n",
    "a1=a1.iloc[0:10].reset_index()\n",
    "ax= sns.barplot(a1.Year_released, a1.Cum_Gross_Worldwide_val, order=a1.Year_released)\n",
    "plt.title('Ave. Cum. Gross worldwide')\n",
    "plt.ylabel('Amount (in 100 millions)')\n",
    "plt.xlabel('Year')\n",
    "\n",
    "# Maximum cumulative gross worldwide bar plot\n",
    "plt.subplot(2,2,3)\n",
    "max_gross = dataset.groupby(['Year_released'])[['Cum_Gross_Worldwide_val']].max().astype(int)\n",
    "b1=max_gross.sort_values(by='Cum_Gross_Worldwide_val',ascending=False)\n",
    "b1=b1.iloc[0:10].reset_index()\n",
    "ax= sns.barplot(b1.Year_released, b1.Cum_Gross_Worldwide_val, order=b1.Year_released)\n",
    "plt.ylabel('Amount (in Billions)')\n",
    "plt.xlabel('Year')\n",
    "plt.title('Year on year - Max. Cum. Gross worldwide')\n",
    "\n",
    "# Maximum gross-usa bar plot by movies\n",
    "plt.subplot(2,2,4)\n",
    "max_gross2 = dataset.groupby(['Title'])[['Gross_USA_val']].max().astype(int)\n",
    "d1=max_gross2.sort_values(by='Gross_USA_val',ascending=False)\n",
    "d1=d1.iloc[0:10].reset_index()\n",
    "ax= sns.barplot(d1.Title, d1.Gross_USA_val, order=d1.Title)\n",
    "plt.title('Movies based on max. Gross USA')\n",
    "plt.ylabel('Amount (in 100 millions)')\n",
    "plt.xlabel('Movie Title')\n",
    "plt.xticks(rotation=90)\n",
    "\n",
    "plt.subplots_adjust(top=0.9, bottom=0, left=0.10, right=0.95, hspace=0.35,\n",
    "                    wspace=0.15)\n",
    "\n",
    "plt.show()"
   ]
  },
  {
   "cell_type": "markdown",
   "metadata": {},
   "source": [
    "__Observation__:<br>\n",
    "\n",
    "- IMDB rating are in the range of 8.1, 8.2 and 8.3 for most of the movies\n",
    "- There are few movies above the rating of 8.8\n",
    "- Suprisingly year 1977 has seen _maximum average cumulative gross_ collection worldwide, followed by 2008 and 2010. This may be because of surge of viewers during 1977 and good movies made that year. However, the maximum cumulative gross has been in 21st century in 2011, 2003 and 2010.\n",
    "- Hollywood and 'western' movies seems to top the list in _maximum gross_ collection in USA for obvious reasons"
   ]
  },
  {
   "cell_type": "code",
   "execution_count": 14,
   "metadata": {},
   "outputs": [
    {
     "data": {
      "image/png": "[encoded data removed]",
      "text/plain": [
       "<Figure size 1080x576 with 2 Axes>"
      ]
     },
     "metadata": {
      "needs_background": "light"
     },
     "output_type": "display_data"
    }
   ],
   "source": [
    "f, axes = plt.subplots (1,2, figsize=(15,8))\n",
    "vis1 = sns.regplot(data=dataset, x='Gross_USA_val', y='IMDB_rating',fit_reg=False, ax=axes[0])\n",
    "vis1.set(title=\"Gross USA V/s IMDB rating\", xlabel= 'Gross USA (in 100 millions USD)')\n",
    "\n",
    "vis2 = sns.regplot(data=dataset, x='Cum_Gross_Worldwide_val', y='IMDB_rating',fit_reg=False, ax=axes[1])\n",
    "vis2.set(title=\"Cum. Gross Worldwide V/s IMDB rating\", xlabel= 'Cum. Gross worldwide (in billions USD)')\n",
    "\n",
    "plt.show()"
   ]
  },
  {
   "cell_type": "markdown",
   "metadata": {},
   "source": [
    "__Observation__:<br>\n",
    "\n",
    "- IMDB ratings are _not related_ to the gross USA collection  or cumulative worldwide collection"
   ]
  },
  {
   "cell_type": "code",
   "execution_count": 15,
   "metadata": {},
   "outputs": [
    {
     "data": {
      "image/png": "[encoded data removed]",
      "text/plain": [
       "<Figure size 513.75x432 with 1 Axes>"
      ]
     },
     "metadata": {
      "needs_background": "light"
     },
     "output_type": "display_data"
    }
   ],
   "source": [
    "vis3 = sns.lmplot(data=dataset, x='Reviewers', y='IMDB_rating',fit_reg=False, hue='Genre1', size=6, aspect=1)\n",
    "plt.title(\"Reviewers v/s IMDB rating\")\n",
    "plt.show()"
   ]
  },
  {
   "cell_type": "code",
   "execution_count": 16,
   "metadata": {},
   "outputs": [
    {
     "data": {
      "image/png": "[encoded data removed]",
      "text/plain": [
       "<Figure size 720x576 with 1 Axes>"
      ]
     },
     "metadata": {
      "needs_background": "light"
     },
     "output_type": "display_data"
    }
   ],
   "source": [
    "plt.figure(figsize=(10,8))\n",
    "#plt.subplot(2,2,1)\n",
    "bl = sns.boxplot(data=dataset, x= 'Genre1', y='IMDB_rating')\n",
    "plt.xticks(rotation=80)\n",
    "plt.show()"
   ]
  },
  {
   "cell_type": "markdown",
   "metadata": {},
   "source": [
    "__Observation__:<br>\n",
    "- It can be clearly observed that more the number of reviewers, higher is the IMDB rating\n",
    "- Crime, Drama and Action are the top 3 genere, which reviewers have commented on"
   ]
  },
  {
   "cell_type": "markdown",
   "metadata": {},
   "source": [
    "----"
   ]
  },
  {
   "cell_type": "markdown",
   "metadata": {},
   "source": [
    "### 3. Data pre-processing"
   ]
  },
  {
   "cell_type": "code",
   "execution_count": 17,
   "metadata": {
    "scrolled": false
   },
   "outputs": [
    {
     "data": {
      "text/plain": [
       "Index(['Title', 'Link', 'Year_released', 'IMDB_rating', 'Reviewers',\n",
       "       'Movie_rating', 'Movie_duration', 'Genre1', 'Genre2', 'Genre3',\n",
       "       'Genre4', 'Release_date', 'Summary', 'Director', 'Writer1', 'Writer2',\n",
       "       'Writer3', 'Stars1', 'Stars2', 'Stars3', 'Stars4', 'Stars5',\n",
       "       'PlotKeywords', 'Budget_curr', 'Budget_val', 'Gross_USA_curr',\n",
       "       'Gross_USA_val', 'Cum_Gross_Worldwide_curr', 'Cum_Gross_Worldwide_val',\n",
       "       'Production_Company'],\n",
       "      dtype='object')"
      ]
     },
     "execution_count": 17,
     "metadata": {},
     "output_type": "execute_result"
    }
   ],
   "source": [
    "dataset.columns"
   ]
  },
  {
   "cell_type": "code",
   "execution_count": 18,
   "metadata": {
    "scrolled": true
   },
   "outputs": [],
   "source": [
    "# list of categorical columns\n",
    "cat_cols = [x for x in dataset.dtypes.index if dataset.dtypes[x]=='object']\n",
    "\n",
    "# Droping unwanted column names from the list\n",
    "cat_cols = [x for x in cat_cols if x not in ['Name of the movie','Link','Summary','PlotKeywords','Production_Company',\\\n",
    "                                             'Budget_curr','Gross_USA_curr','Cum_Gross_Worldwide_curr' ]]"
   ]
  },
  {
   "cell_type": "code",
   "execution_count": 19,
   "metadata": {},
   "outputs": [
    {
     "data": {
      "text/html": [
       "<div>\n",
       "<style scoped>\n",
       "    .dataframe tbody tr th:only-of-type {\n",
       "        vertical-align: middle;\n",
       "    }\n",
       "\n",
       "    .dataframe tbody tr th {\n",
       "        vertical-align: top;\n",
       "    }\n",
       "\n",
       "    .dataframe thead th {\n",
       "        text-align: right;\n",
       "    }\n",
       "</style>\n",
       "<table border=\"1\" class=\"dataframe\">\n",
       "  <thead>\n",
       "    <tr style=\"text-align: right;\">\n",
       "      <th></th>\n",
       "      <th>Title</th>\n",
       "      <th>Movie_rating</th>\n",
       "      <th>Movie_duration</th>\n",
       "      <th>Genre1</th>\n",
       "      <th>Genre2</th>\n",
       "      <th>Genre3</th>\n",
       "      <th>Genre4</th>\n",
       "      <th>Release_date</th>\n",
       "      <th>Director</th>\n",
       "      <th>Writer1</th>\n",
       "      <th>Writer2</th>\n",
       "      <th>Writer3</th>\n",
       "      <th>Stars1</th>\n",
       "      <th>Stars2</th>\n",
       "      <th>Stars3</th>\n",
       "      <th>Stars4</th>\n",
       "      <th>Stars5</th>\n",
       "    </tr>\n",
       "  </thead>\n",
       "  <tbody>\n",
       "    <tr>\n",
       "      <th>0</th>\n",
       "      <td>The Shawshank Redemption</td>\n",
       "      <td>A</td>\n",
       "      <td>2h 22min</td>\n",
       "      <td>Drama</td>\n",
       "      <td></td>\n",
       "      <td></td>\n",
       "      <td></td>\n",
       "      <td>14 October 1994 (USA)</td>\n",
       "      <td>Frank Darabont</td>\n",
       "      <td>Stephen King (short story \"Rita Hayworth and S...</td>\n",
       "      <td>Frank Darabont (screenplay)</td>\n",
       "      <td></td>\n",
       "      <td>Tim Robbins</td>\n",
       "      <td>Morgan Freeman</td>\n",
       "      <td>Bob Gunton</td>\n",
       "      <td></td>\n",
       "      <td></td>\n",
       "    </tr>\n",
       "    <tr>\n",
       "      <th>1</th>\n",
       "      <td>The Godfather</td>\n",
       "      <td>A</td>\n",
       "      <td>2h 55min</td>\n",
       "      <td>Crime</td>\n",
       "      <td>Drama</td>\n",
       "      <td></td>\n",
       "      <td></td>\n",
       "      <td>24 March 1972 (USA)</td>\n",
       "      <td>Francis Ford Coppola</td>\n",
       "      <td>Mario Puzo (screenplay by)</td>\n",
       "      <td>Francis Ford Coppola (screenplay by)</td>\n",
       "      <td></td>\n",
       "      <td>Marlon Brando</td>\n",
       "      <td>Al Pacino</td>\n",
       "      <td>James Caan</td>\n",
       "      <td></td>\n",
       "      <td></td>\n",
       "    </tr>\n",
       "    <tr>\n",
       "      <th>2</th>\n",
       "      <td>The Godfather: Part II</td>\n",
       "      <td>Not_Available</td>\n",
       "      <td>3h 22min</td>\n",
       "      <td>Crime</td>\n",
       "      <td>Drama</td>\n",
       "      <td></td>\n",
       "      <td></td>\n",
       "      <td>20 December 1974 (USA)</td>\n",
       "      <td>Francis Ford Coppola</td>\n",
       "      <td>Francis Ford Coppola (screenplay by)</td>\n",
       "      <td>Mario Puzo (screenplay by)</td>\n",
       "      <td></td>\n",
       "      <td>Al Pacino</td>\n",
       "      <td>Robert De Niro</td>\n",
       "      <td>Robert Duvall</td>\n",
       "      <td></td>\n",
       "      <td></td>\n",
       "    </tr>\n",
       "    <tr>\n",
       "      <th>3</th>\n",
       "      <td>The Dark Knight</td>\n",
       "      <td>UA</td>\n",
       "      <td>2h 32min</td>\n",
       "      <td>Action</td>\n",
       "      <td>Crime</td>\n",
       "      <td>Drama</td>\n",
       "      <td>Thriller</td>\n",
       "      <td>18 July 2008 (India)</td>\n",
       "      <td>Christopher Nolan</td>\n",
       "      <td>Jonathan Nolan (screenplay)</td>\n",
       "      <td>Christopher Nolan (screenplay)</td>\n",
       "      <td></td>\n",
       "      <td>Christian Bale</td>\n",
       "      <td>Heath Ledger</td>\n",
       "      <td>Aaron Eckhart</td>\n",
       "      <td></td>\n",
       "      <td></td>\n",
       "    </tr>\n",
       "    <tr>\n",
       "      <th>4</th>\n",
       "      <td>12 Angry Men</td>\n",
       "      <td>Not_Available</td>\n",
       "      <td>1h 36min</td>\n",
       "      <td>Drama</td>\n",
       "      <td></td>\n",
       "      <td></td>\n",
       "      <td></td>\n",
       "      <td>10 April 1957 (USA)</td>\n",
       "      <td>Sidney Lumet</td>\n",
       "      <td>Reginald Rose (story)</td>\n",
       "      <td>Reginald Rose (screenplay)</td>\n",
       "      <td></td>\n",
       "      <td>Henry Fonda</td>\n",
       "      <td>Lee J. Cobb</td>\n",
       "      <td>Martin Balsam</td>\n",
       "      <td></td>\n",
       "      <td></td>\n",
       "    </tr>\n",
       "    <tr>\n",
       "      <th>5</th>\n",
       "      <td>Schindler's List</td>\n",
       "      <td>A</td>\n",
       "      <td>3h 15min</td>\n",
       "      <td>Biography</td>\n",
       "      <td>Drama</td>\n",
       "      <td>History</td>\n",
       "      <td></td>\n",
       "      <td>4 February 1994 (USA)</td>\n",
       "      <td>Steven Spielberg</td>\n",
       "      <td>Thomas Keneally (book)</td>\n",
       "      <td>Steven Zaillian (screenplay)</td>\n",
       "      <td></td>\n",
       "      <td>Liam Neeson</td>\n",
       "      <td>Ralph Fiennes</td>\n",
       "      <td>Ben Kingsley</td>\n",
       "      <td></td>\n",
       "      <td></td>\n",
       "    </tr>\n",
       "    <tr>\n",
       "      <th>6</th>\n",
       "      <td>The Lord of the Rings: The Return of the King</td>\n",
       "      <td>PG-13</td>\n",
       "      <td>3h 21min</td>\n",
       "      <td>Adventure</td>\n",
       "      <td>Drama</td>\n",
       "      <td>Fantasy</td>\n",
       "      <td></td>\n",
       "      <td>6 February 2004 (India)</td>\n",
       "      <td>Peter Jackson</td>\n",
       "      <td>J.R.R. Tolkien (novel)</td>\n",
       "      <td>Fran Walsh (screenplay)</td>\n",
       "      <td></td>\n",
       "      <td>Elijah Wood</td>\n",
       "      <td>Viggo Mortensen</td>\n",
       "      <td>Ian McKellen</td>\n",
       "      <td></td>\n",
       "      <td></td>\n",
       "    </tr>\n",
       "    <tr>\n",
       "      <th>7</th>\n",
       "      <td>Pulp Fiction</td>\n",
       "      <td>A</td>\n",
       "      <td>2h 34min</td>\n",
       "      <td>Crime</td>\n",
       "      <td>Drama</td>\n",
       "      <td></td>\n",
       "      <td></td>\n",
       "      <td>14 October 1994 (USA)</td>\n",
       "      <td>Quentin Tarantino</td>\n",
       "      <td>Quentin Tarantino (stories)</td>\n",
       "      <td>Roger Avary (stories)</td>\n",
       "      <td></td>\n",
       "      <td>John Travolta</td>\n",
       "      <td>Uma Thurman</td>\n",
       "      <td>Samuel L. Jackson</td>\n",
       "      <td></td>\n",
       "      <td></td>\n",
       "    </tr>\n",
       "    <tr>\n",
       "      <th>8</th>\n",
       "      <td>Il buono, il brutto, il cattivo</td>\n",
       "      <td>Not_Available</td>\n",
       "      <td>2h 41min</td>\n",
       "      <td>Western</td>\n",
       "      <td></td>\n",
       "      <td></td>\n",
       "      <td></td>\n",
       "      <td>23 December 1966 (Italy)</td>\n",
       "      <td>Sergio Leone</td>\n",
       "      <td>Luciano Vincenzoni (story)</td>\n",
       "      <td>Sergio Leone (story)</td>\n",
       "      <td></td>\n",
       "      <td>Clint Eastwood</td>\n",
       "      <td>Eli Wallach</td>\n",
       "      <td>Lee Van Cleef</td>\n",
       "      <td></td>\n",
       "      <td></td>\n",
       "    </tr>\n",
       "    <tr>\n",
       "      <th>9</th>\n",
       "      <td>Fight Club</td>\n",
       "      <td>A</td>\n",
       "      <td>2h 19min</td>\n",
       "      <td>Drama</td>\n",
       "      <td></td>\n",
       "      <td></td>\n",
       "      <td></td>\n",
       "      <td>15 October 1999 (USA)</td>\n",
       "      <td>David Fincher</td>\n",
       "      <td>Chuck Palahniuk (novel)</td>\n",
       "      <td>Jim Uhls (screenplay)</td>\n",
       "      <td></td>\n",
       "      <td>Brad Pitt</td>\n",
       "      <td>Edward Norton</td>\n",
       "      <td>Meat Loaf</td>\n",
       "      <td></td>\n",
       "      <td></td>\n",
       "    </tr>\n",
       "    <tr>\n",
       "      <th>10</th>\n",
       "      <td>The Lord of the Rings: The Fellowship of the Ring</td>\n",
       "      <td>PG-13</td>\n",
       "      <td>2h 58min</td>\n",
       "      <td>Adventure</td>\n",
       "      <td>Drama</td>\n",
       "      <td>Fantasy</td>\n",
       "      <td></td>\n",
       "      <td>15 March 2002 (India)</td>\n",
       "      <td>Peter Jackson</td>\n",
       "      <td>J.R.R. Tolkien (novel)</td>\n",
       "      <td>Fran Walsh (screenplay)</td>\n",
       "      <td></td>\n",
       "      <td>Elijah Wood</td>\n",
       "      <td>Ian McKellen</td>\n",
       "      <td>Orlando Bloom</td>\n",
       "      <td></td>\n",
       "      <td></td>\n",
       "    </tr>\n",
       "    <tr>\n",
       "      <th>11</th>\n",
       "      <td>Forrest Gump</td>\n",
       "      <td>PG-13</td>\n",
       "      <td>2h 22min</td>\n",
       "      <td>Drama</td>\n",
       "      <td>Romance</td>\n",
       "      <td></td>\n",
       "      <td></td>\n",
       "      <td>6 July 1994 (USA)</td>\n",
       "      <td>Robert Zemeckis</td>\n",
       "      <td>Winston Groom (novel)</td>\n",
       "      <td>Eric Roth (screenplay)</td>\n",
       "      <td></td>\n",
       "      <td>Tom Hanks</td>\n",
       "      <td>Robin Wright</td>\n",
       "      <td>Gary Sinise</td>\n",
       "      <td></td>\n",
       "      <td></td>\n",
       "    </tr>\n",
       "    <tr>\n",
       "      <th>12</th>\n",
       "      <td>Star Wars: Episode V - The Empire Strikes Back</td>\n",
       "      <td>PG</td>\n",
       "      <td>2h 4min</td>\n",
       "      <td>Action</td>\n",
       "      <td>Adventure</td>\n",
       "      <td>Fantasy</td>\n",
       "      <td>Sci-Fi</td>\n",
       "      <td>20 June 1980 (USA)</td>\n",
       "      <td>Irvin Kershner</td>\n",
       "      <td>Leigh Brackett (screenplay by)</td>\n",
       "      <td>Lawrence Kasdan (screenplay by)</td>\n",
       "      <td></td>\n",
       "      <td>Mark Hamill</td>\n",
       "      <td>Harrison Ford</td>\n",
       "      <td>Carrie Fisher</td>\n",
       "      <td></td>\n",
       "      <td></td>\n",
       "    </tr>\n",
       "    <tr>\n",
       "      <th>13</th>\n",
       "      <td>Inception</td>\n",
       "      <td>UA</td>\n",
       "      <td>2h 28min</td>\n",
       "      <td>Action</td>\n",
       "      <td>Adventure</td>\n",
       "      <td>Sci-Fi</td>\n",
       "      <td>Thriller</td>\n",
       "      <td>16 July 2010 (India)</td>\n",
       "      <td>Christopher Nolan</td>\n",
       "      <td>Christopher Nolan</td>\n",
       "      <td></td>\n",
       "      <td></td>\n",
       "      <td>Leonardo DiCaprio</td>\n",
       "      <td>Joseph Gordon-Levitt</td>\n",
       "      <td>Ellen Page</td>\n",
       "      <td></td>\n",
       "      <td></td>\n",
       "    </tr>\n",
       "    <tr>\n",
       "      <th>14</th>\n",
       "      <td>The Lord of the Rings: The Two Towers</td>\n",
       "      <td>PG-13</td>\n",
       "      <td>2h 59min</td>\n",
       "      <td>Adventure</td>\n",
       "      <td>Drama</td>\n",
       "      <td>Fantasy</td>\n",
       "      <td></td>\n",
       "      <td>28 March 2003 (India)</td>\n",
       "      <td>Peter Jackson</td>\n",
       "      <td>J.R.R. Tolkien (novel)</td>\n",
       "      <td>Fran Walsh (screenplay)</td>\n",
       "      <td></td>\n",
       "      <td>Elijah Wood</td>\n",
       "      <td>Ian McKellen</td>\n",
       "      <td>Viggo Mortensen</td>\n",
       "      <td></td>\n",
       "      <td></td>\n",
       "    </tr>\n",
       "    <tr>\n",
       "      <th>15</th>\n",
       "      <td>One Flew Over the Cuckoo's Nest</td>\n",
       "      <td>Not_Available</td>\n",
       "      <td>2h 13min</td>\n",
       "      <td>Drama</td>\n",
       "      <td></td>\n",
       "      <td></td>\n",
       "      <td></td>\n",
       "      <td>19 November 1975 (USA)</td>\n",
       "      <td>Milos Forman</td>\n",
       "      <td>Lawrence Hauben (screenplay)</td>\n",
       "      <td>Bo Goldman (screenplay)</td>\n",
       "      <td></td>\n",
       "      <td>Jack Nicholson</td>\n",
       "      <td>Louise Fletcher</td>\n",
       "      <td>Will Sampson</td>\n",
       "      <td></td>\n",
       "      <td></td>\n",
       "    </tr>\n",
       "    <tr>\n",
       "      <th>16</th>\n",
       "      <td>Goodfellas</td>\n",
       "      <td>A</td>\n",
       "      <td>2h 26min</td>\n",
       "      <td>Crime</td>\n",
       "      <td>Drama</td>\n",
       "      <td></td>\n",
       "      <td></td>\n",
       "      <td>21 September 1990 (USA)</td>\n",
       "      <td>Martin Scorsese</td>\n",
       "      <td>Nicholas Pileggi (book)</td>\n",
       "      <td>Nicholas Pileggi (screenplay)</td>\n",
       "      <td></td>\n",
       "      <td>Robert De Niro</td>\n",
       "      <td>Ray Liotta</td>\n",
       "      <td>Joe Pesci</td>\n",
       "      <td></td>\n",
       "      <td></td>\n",
       "    </tr>\n",
       "    <tr>\n",
       "      <th>17</th>\n",
       "      <td>The Matrix</td>\n",
       "      <td>A</td>\n",
       "      <td>2h 16min</td>\n",
       "      <td>Action</td>\n",
       "      <td>Sci-Fi</td>\n",
       "      <td></td>\n",
       "      <td></td>\n",
       "      <td>31 March 1999 (USA)</td>\n",
       "      <td>Not_Available</td>\n",
       "      <td>Lilly Wachowski (as The Wachowski Brothers)</td>\n",
       "      <td>Lana Wachowski (as The Wachowski Brothers)</td>\n",
       "      <td></td>\n",
       "      <td>Keanu Reeves</td>\n",
       "      <td>Laurence Fishburne</td>\n",
       "      <td>Carrie-Anne Moss</td>\n",
       "      <td></td>\n",
       "      <td></td>\n",
       "    </tr>\n",
       "    <tr>\n",
       "      <th>18</th>\n",
       "      <td>Shichinin no samurai</td>\n",
       "      <td>Not_Available</td>\n",
       "      <td>3h 27min</td>\n",
       "      <td>Adventure</td>\n",
       "      <td>Drama</td>\n",
       "      <td></td>\n",
       "      <td></td>\n",
       "      <td>26 April 1954 (Japan)</td>\n",
       "      <td>Akira Kurosawa</td>\n",
       "      <td>Akira Kurosawa (screenplay)</td>\n",
       "      <td>Shinobu Hashimoto (screenplay)</td>\n",
       "      <td></td>\n",
       "      <td>Toshirô Mifune</td>\n",
       "      <td>Takashi Shimura</td>\n",
       "      <td>Keiko Tsushima</td>\n",
       "      <td></td>\n",
       "      <td></td>\n",
       "    </tr>\n",
       "    <tr>\n",
       "      <th>19</th>\n",
       "      <td>Se7en</td>\n",
       "      <td>R</td>\n",
       "      <td>2h 7min</td>\n",
       "      <td>Crime</td>\n",
       "      <td>Drama</td>\n",
       "      <td>Mystery</td>\n",
       "      <td>Thriller</td>\n",
       "      <td>22 September 1995 (USA)</td>\n",
       "      <td>David Fincher</td>\n",
       "      <td>Andrew Kevin Walker</td>\n",
       "      <td></td>\n",
       "      <td></td>\n",
       "      <td>Morgan Freeman</td>\n",
       "      <td>Brad Pitt</td>\n",
       "      <td>Kevin Spacey</td>\n",
       "      <td></td>\n",
       "      <td></td>\n",
       "    </tr>\n",
       "  </tbody>\n",
       "</table>\n",
       "</div>"
      ],
      "text/plain": [
       "                                                Title   Movie_rating  \\\n",
       "0                            The Shawshank Redemption              A   \n",
       "1                                       The Godfather              A   \n",
       "2                              The Godfather: Part II  Not_Available   \n",
       "3                                     The Dark Knight             UA   \n",
       "4                                        12 Angry Men  Not_Available   \n",
       "5                                    Schindler's List              A   \n",
       "6       The Lord of the Rings: The Return of the King          PG-13   \n",
       "7                                        Pulp Fiction              A   \n",
       "8                     Il buono, il brutto, il cattivo  Not_Available   \n",
       "9                                          Fight Club              A   \n",
       "10  The Lord of the Rings: The Fellowship of the Ring          PG-13   \n",
       "11                                       Forrest Gump          PG-13   \n",
       "12     Star Wars: Episode V - The Empire Strikes Back             PG   \n",
       "13                                          Inception             UA   \n",
       "14              The Lord of the Rings: The Two Towers          PG-13   \n",
       "15                    One Flew Over the Cuckoo's Nest  Not_Available   \n",
       "16                                         Goodfellas              A   \n",
       "17                                         The Matrix              A   \n",
       "18                               Shichinin no samurai  Not_Available   \n",
       "19                                              Se7en              R   \n",
       "\n",
       "   Movie_duration     Genre1      Genre2    Genre3     Genre4  \\\n",
       "0        2h 22min      Drama                                    \n",
       "1        2h 55min      Crime       Drama                        \n",
       "2        3h 22min      Crime       Drama                        \n",
       "3        2h 32min     Action       Crime     Drama   Thriller   \n",
       "4        1h 36min      Drama                                    \n",
       "5        3h 15min  Biography       Drama   History              \n",
       "6        3h 21min  Adventure       Drama   Fantasy              \n",
       "7        2h 34min      Crime       Drama                        \n",
       "8        2h 41min    Western                                    \n",
       "9        2h 19min      Drama                                    \n",
       "10       2h 58min  Adventure       Drama   Fantasy              \n",
       "11       2h 22min      Drama     Romance                        \n",
       "12        2h 4min     Action   Adventure   Fantasy     Sci-Fi   \n",
       "13       2h 28min     Action   Adventure    Sci-Fi   Thriller   \n",
       "14       2h 59min  Adventure       Drama   Fantasy              \n",
       "15       2h 13min      Drama                                    \n",
       "16       2h 26min      Crime       Drama                        \n",
       "17       2h 16min     Action      Sci-Fi                        \n",
       "18       3h 27min  Adventure       Drama                        \n",
       "19        2h 7min      Crime       Drama   Mystery   Thriller   \n",
       "\n",
       "                Release_date              Director  \\\n",
       "0      14 October 1994 (USA)        Frank Darabont   \n",
       "1        24 March 1972 (USA)  Francis Ford Coppola   \n",
       "2     20 December 1974 (USA)  Francis Ford Coppola   \n",
       "3       18 July 2008 (India)     Christopher Nolan   \n",
       "4        10 April 1957 (USA)          Sidney Lumet   \n",
       "5      4 February 1994 (USA)      Steven Spielberg   \n",
       "6    6 February 2004 (India)         Peter Jackson   \n",
       "7      14 October 1994 (USA)     Quentin Tarantino   \n",
       "8   23 December 1966 (Italy)          Sergio Leone   \n",
       "9      15 October 1999 (USA)         David Fincher   \n",
       "10     15 March 2002 (India)         Peter Jackson   \n",
       "11         6 July 1994 (USA)       Robert Zemeckis   \n",
       "12        20 June 1980 (USA)        Irvin Kershner   \n",
       "13      16 July 2010 (India)     Christopher Nolan   \n",
       "14     28 March 2003 (India)         Peter Jackson   \n",
       "15    19 November 1975 (USA)          Milos Forman   \n",
       "16   21 September 1990 (USA)       Martin Scorsese   \n",
       "17       31 March 1999 (USA)         Not_Available   \n",
       "18     26 April 1954 (Japan)        Akira Kurosawa   \n",
       "19   22 September 1995 (USA)         David Fincher   \n",
       "\n",
       "                                              Writer1  \\\n",
       "0   Stephen King (short story \"Rita Hayworth and S...   \n",
       "1                          Mario Puzo (screenplay by)   \n",
       "2                Francis Ford Coppola (screenplay by)   \n",
       "3                         Jonathan Nolan (screenplay)   \n",
       "4                               Reginald Rose (story)   \n",
       "5                              Thomas Keneally (book)   \n",
       "6                              J.R.R. Tolkien (novel)   \n",
       "7                         Quentin Tarantino (stories)   \n",
       "8                          Luciano Vincenzoni (story)   \n",
       "9                             Chuck Palahniuk (novel)   \n",
       "10                             J.R.R. Tolkien (novel)   \n",
       "11                              Winston Groom (novel)   \n",
       "12                     Leigh Brackett (screenplay by)   \n",
       "13                                  Christopher Nolan   \n",
       "14                             J.R.R. Tolkien (novel)   \n",
       "15                       Lawrence Hauben (screenplay)   \n",
       "16                            Nicholas Pileggi (book)   \n",
       "17        Lilly Wachowski (as The Wachowski Brothers)   \n",
       "18                        Akira Kurosawa (screenplay)   \n",
       "19                                Andrew Kevin Walker   \n",
       "\n",
       "                                       Writer2 Writer3             Stars1  \\\n",
       "0                  Frank Darabont (screenplay)                Tim Robbins   \n",
       "1         Francis Ford Coppola (screenplay by)              Marlon Brando   \n",
       "2                   Mario Puzo (screenplay by)                  Al Pacino   \n",
       "3               Christopher Nolan (screenplay)             Christian Bale   \n",
       "4                   Reginald Rose (screenplay)                Henry Fonda   \n",
       "5                 Steven Zaillian (screenplay)                Liam Neeson   \n",
       "6                      Fran Walsh (screenplay)                Elijah Wood   \n",
       "7                        Roger Avary (stories)              John Travolta   \n",
       "8                         Sergio Leone (story)             Clint Eastwood   \n",
       "9                        Jim Uhls (screenplay)                  Brad Pitt   \n",
       "10                     Fran Walsh (screenplay)                Elijah Wood   \n",
       "11                      Eric Roth (screenplay)                  Tom Hanks   \n",
       "12             Lawrence Kasdan (screenplay by)                Mark Hamill   \n",
       "13                                                      Leonardo DiCaprio   \n",
       "14                     Fran Walsh (screenplay)                Elijah Wood   \n",
       "15                     Bo Goldman (screenplay)             Jack Nicholson   \n",
       "16               Nicholas Pileggi (screenplay)             Robert De Niro   \n",
       "17  Lana Wachowski (as The Wachowski Brothers)               Keanu Reeves   \n",
       "18              Shinobu Hashimoto (screenplay)             Toshirô Mifune   \n",
       "19                                                         Morgan Freeman   \n",
       "\n",
       "                   Stars2              Stars3 Stars4 Stars5  \n",
       "0          Morgan Freeman          Bob Gunton                \n",
       "1               Al Pacino          James Caan                \n",
       "2          Robert De Niro       Robert Duvall                \n",
       "3            Heath Ledger       Aaron Eckhart                \n",
       "4             Lee J. Cobb       Martin Balsam                \n",
       "5           Ralph Fiennes        Ben Kingsley                \n",
       "6         Viggo Mortensen        Ian McKellen                \n",
       "7             Uma Thurman   Samuel L. Jackson                \n",
       "8             Eli Wallach       Lee Van Cleef                \n",
       "9           Edward Norton           Meat Loaf                \n",
       "10           Ian McKellen       Orlando Bloom                \n",
       "11           Robin Wright         Gary Sinise                \n",
       "12          Harrison Ford       Carrie Fisher                \n",
       "13   Joseph Gordon-Levitt          Ellen Page                \n",
       "14           Ian McKellen     Viggo Mortensen                \n",
       "15        Louise Fletcher        Will Sampson                \n",
       "16             Ray Liotta           Joe Pesci                \n",
       "17     Laurence Fishburne    Carrie-Anne Moss                \n",
       "18        Takashi Shimura      Keiko Tsushima                \n",
       "19              Brad Pitt        Kevin Spacey                "
      ]
     },
     "execution_count": 19,
     "metadata": {},
     "output_type": "execute_result"
    }
   ],
   "source": [
    "dataset[cat_cols].head(20)"
   ]
  },
  {
   "cell_type": "code",
   "execution_count": 20,
   "metadata": {},
   "outputs": [],
   "source": [
    "# Making a copy of the dataframe before encoding categorical varaibles\n",
    "dataset_orig = dataset.copy()"
   ]
  },
  {
   "cell_type": "markdown",
   "metadata": {},
   "source": [
    "__Dropping unwanted columns__:<br>\n",
    "- Based on the review of unique values of columns, the following 'categorical' varaibles can be dropped of, which will not add value to the model\n",
    "- Additionally, dropping of 'unformatted' columns like Budget, Gross_USA and Cum_Gross_Worldwide, as we already have added the numeric format of these columns."
   ]
  },
  {
   "cell_type": "code",
   "execution_count": 21,
   "metadata": {},
   "outputs": [],
   "source": [
    "# List of columns to be dropped from the dataframe\n",
    "drp = ['Link','Summary','PlotKeywords','Production_Company']\n",
    "# dropping above column from the dataframe\n",
    "dataset= dataset.drop(drp, axis=1)"
   ]
  },
  {
   "cell_type": "markdown",
   "metadata": {},
   "source": [
    " __Encoding categorical variables__"
   ]
  },
  {
   "cell_type": "code",
   "execution_count": 22,
   "metadata": {},
   "outputs": [],
   "source": [
    "# Import required package\n",
    "from sklearn.preprocessing import LabelEncoder\n",
    "encode_x = LabelEncoder()\n",
    "# Encoding categorical columns \n",
    "for i in cat_cols:\n",
    "    dataset[i]= encode_x.fit_transform(dataset[i])"
   ]
  },
  {
   "cell_type": "code",
   "execution_count": 23,
   "metadata": {},
   "outputs": [
    {
     "data": {
      "text/html": [
       "<div>\n",
       "<style scoped>\n",
       "    .dataframe tbody tr th:only-of-type {\n",
       "        vertical-align: middle;\n",
       "    }\n",
       "\n",
       "    .dataframe tbody tr th {\n",
       "        vertical-align: top;\n",
       "    }\n",
       "\n",
       "    .dataframe thead th {\n",
       "        text-align: right;\n",
       "    }\n",
       "</style>\n",
       "<table border=\"1\" class=\"dataframe\">\n",
       "  <thead>\n",
       "    <tr style=\"text-align: right;\">\n",
       "      <th></th>\n",
       "      <th>Title</th>\n",
       "      <th>Year_released</th>\n",
       "      <th>IMDB_rating</th>\n",
       "      <th>Reviewers</th>\n",
       "      <th>Movie_rating</th>\n",
       "      <th>Movie_duration</th>\n",
       "      <th>Genre1</th>\n",
       "      <th>Genre2</th>\n",
       "      <th>Genre3</th>\n",
       "      <th>Genre4</th>\n",
       "      <th>...</th>\n",
       "      <th>Stars2</th>\n",
       "      <th>Stars3</th>\n",
       "      <th>Stars4</th>\n",
       "      <th>Stars5</th>\n",
       "      <th>Budget_curr</th>\n",
       "      <th>Budget_val</th>\n",
       "      <th>Gross_USA_curr</th>\n",
       "      <th>Gross_USA_val</th>\n",
       "      <th>Cum_Gross_Worldwide_curr</th>\n",
       "      <th>Cum_Gross_Worldwide_val</th>\n",
       "    </tr>\n",
       "  </thead>\n",
       "  <tbody>\n",
       "    <tr>\n",
       "      <th>0</th>\n",
       "      <td>220</td>\n",
       "      <td>1994.0</td>\n",
       "      <td>9.2</td>\n",
       "      <td>2045328.0</td>\n",
       "      <td>1</td>\n",
       "      <td>51</td>\n",
       "      <td>6</td>\n",
       "      <td>0</td>\n",
       "      <td>0</td>\n",
       "      <td>0</td>\n",
       "      <td>...</td>\n",
       "      <td>156</td>\n",
       "      <td>24</td>\n",
       "      <td>0</td>\n",
       "      <td>0</td>\n",
       "      <td>USD</td>\n",
       "      <td>25000000.0</td>\n",
       "      <td>USD</td>\n",
       "      <td>28341469.0</td>\n",
       "      <td>USD</td>\n",
       "      <td>5.850000e+07</td>\n",
       "    </tr>\n",
       "    <tr>\n",
       "      <th>1</th>\n",
       "      <td>199</td>\n",
       "      <td>1972.0</td>\n",
       "      <td>9.2</td>\n",
       "      <td>1402791.0</td>\n",
       "      <td>1</td>\n",
       "      <td>80</td>\n",
       "      <td>5</td>\n",
       "      <td>6</td>\n",
       "      <td>0</td>\n",
       "      <td>0</td>\n",
       "      <td>...</td>\n",
       "      <td>2</td>\n",
       "      <td>97</td>\n",
       "      <td>0</td>\n",
       "      <td>0</td>\n",
       "      <td>USD</td>\n",
       "      <td>6000000.0</td>\n",
       "      <td>USD</td>\n",
       "      <td>134966411.0</td>\n",
       "      <td>USD</td>\n",
       "      <td>2.450664e+08</td>\n",
       "    </tr>\n",
       "    <tr>\n",
       "      <th>2</th>\n",
       "      <td>200</td>\n",
       "      <td>1974.0</td>\n",
       "      <td>9.0</td>\n",
       "      <td>972533.0</td>\n",
       "      <td>3</td>\n",
       "      <td>92</td>\n",
       "      <td>5</td>\n",
       "      <td>6</td>\n",
       "      <td>0</td>\n",
       "      <td>0</td>\n",
       "      <td>...</td>\n",
       "      <td>179</td>\n",
       "      <td>188</td>\n",
       "      <td>0</td>\n",
       "      <td>0</td>\n",
       "      <td>USD</td>\n",
       "      <td>13000000.0</td>\n",
       "      <td>USD</td>\n",
       "      <td>57300000.0</td>\n",
       "      <td>NaN</td>\n",
       "      <td>0.000000e+00</td>\n",
       "    </tr>\n",
       "    <tr>\n",
       "      <th>3</th>\n",
       "      <td>193</td>\n",
       "      <td>2008.0</td>\n",
       "      <td>9.0</td>\n",
       "      <td>2012714.0</td>\n",
       "      <td>8</td>\n",
       "      <td>62</td>\n",
       "      <td>0</td>\n",
       "      <td>5</td>\n",
       "      <td>4</td>\n",
       "      <td>12</td>\n",
       "      <td>...</td>\n",
       "      <td>79</td>\n",
       "      <td>0</td>\n",
       "      <td>0</td>\n",
       "      <td>0</td>\n",
       "      <td>USD</td>\n",
       "      <td>185000000.0</td>\n",
       "      <td>USD</td>\n",
       "      <td>534858444.0</td>\n",
       "      <td>USD</td>\n",
       "      <td>1.004558e+09</td>\n",
       "    </tr>\n",
       "    <tr>\n",
       "      <th>4</th>\n",
       "      <td>0</td>\n",
       "      <td>1957.0</td>\n",
       "      <td>8.9</td>\n",
       "      <td>576027.0</td>\n",
       "      <td>3</td>\n",
       "      <td>12</td>\n",
       "      <td>6</td>\n",
       "      <td>0</td>\n",
       "      <td>0</td>\n",
       "      <td>0</td>\n",
       "      <td>...</td>\n",
       "      <td>126</td>\n",
       "      <td>145</td>\n",
       "      <td>0</td>\n",
       "      <td>0</td>\n",
       "      <td>USD</td>\n",
       "      <td>350000.0</td>\n",
       "      <td>USD</td>\n",
       "      <td>4360000.0</td>\n",
       "      <td>NaN</td>\n",
       "      <td>0.000000e+00</td>\n",
       "    </tr>\n",
       "    <tr>\n",
       "      <th>5</th>\n",
       "      <td>166</td>\n",
       "      <td>1993.0</td>\n",
       "      <td>8.9</td>\n",
       "      <td>1058362.0</td>\n",
       "      <td>1</td>\n",
       "      <td>90</td>\n",
       "      <td>3</td>\n",
       "      <td>6</td>\n",
       "      <td>8</td>\n",
       "      <td>0</td>\n",
       "      <td>...</td>\n",
       "      <td>174</td>\n",
       "      <td>19</td>\n",
       "      <td>0</td>\n",
       "      <td>0</td>\n",
       "      <td>USD</td>\n",
       "      <td>22000000.0</td>\n",
       "      <td>USD</td>\n",
       "      <td>96067179.0</td>\n",
       "      <td>USD</td>\n",
       "      <td>2.210000e+08</td>\n",
       "    </tr>\n",
       "    <tr>\n",
       "      <th>6</th>\n",
       "      <td>213</td>\n",
       "      <td>2003.0</td>\n",
       "      <td>8.9</td>\n",
       "      <td>1456606.0</td>\n",
       "      <td>5</td>\n",
       "      <td>91</td>\n",
       "      <td>1</td>\n",
       "      <td>6</td>\n",
       "      <td>6</td>\n",
       "      <td>0</td>\n",
       "      <td>...</td>\n",
       "      <td>218</td>\n",
       "      <td>89</td>\n",
       "      <td>0</td>\n",
       "      <td>0</td>\n",
       "      <td>USD</td>\n",
       "      <td>94000000.0</td>\n",
       "      <td>USD</td>\n",
       "      <td>377845905.0</td>\n",
       "      <td>USD</td>\n",
       "      <td>1.119930e+09</td>\n",
       "    </tr>\n",
       "    <tr>\n",
       "      <th>7</th>\n",
       "      <td>148</td>\n",
       "      <td>1994.0</td>\n",
       "      <td>8.9</td>\n",
       "      <td>1598144.0</td>\n",
       "      <td>1</td>\n",
       "      <td>64</td>\n",
       "      <td>5</td>\n",
       "      <td>6</td>\n",
       "      <td>0</td>\n",
       "      <td>0</td>\n",
       "      <td>...</td>\n",
       "      <td>217</td>\n",
       "      <td>198</td>\n",
       "      <td>0</td>\n",
       "      <td>0</td>\n",
       "      <td>USD</td>\n",
       "      <td>8000000.0</td>\n",
       "      <td>USD</td>\n",
       "      <td>107928762.0</td>\n",
       "      <td>USD</td>\n",
       "      <td>2.139288e+08</td>\n",
       "    </tr>\n",
       "    <tr>\n",
       "      <th>8</th>\n",
       "      <td>84</td>\n",
       "      <td>1966.0</td>\n",
       "      <td>8.8</td>\n",
       "      <td>607098.0</td>\n",
       "      <td>3</td>\n",
       "      <td>71</td>\n",
       "      <td>11</td>\n",
       "      <td>0</td>\n",
       "      <td>0</td>\n",
       "      <td>0</td>\n",
       "      <td>...</td>\n",
       "      <td>48</td>\n",
       "      <td>132</td>\n",
       "      <td>0</td>\n",
       "      <td>0</td>\n",
       "      <td>USD</td>\n",
       "      <td>1200000.0</td>\n",
       "      <td>USD</td>\n",
       "      <td>6100000.0</td>\n",
       "      <td>NaN</td>\n",
       "      <td>0.000000e+00</td>\n",
       "    </tr>\n",
       "    <tr>\n",
       "      <th>9</th>\n",
       "      <td>59</td>\n",
       "      <td>1999.0</td>\n",
       "      <td>8.8</td>\n",
       "      <td>1637140.0</td>\n",
       "      <td>1</td>\n",
       "      <td>47</td>\n",
       "      <td>6</td>\n",
       "      <td>0</td>\n",
       "      <td>0</td>\n",
       "      <td>0</td>\n",
       "      <td>...</td>\n",
       "      <td>46</td>\n",
       "      <td>152</td>\n",
       "      <td>0</td>\n",
       "      <td>0</td>\n",
       "      <td>USD</td>\n",
       "      <td>63000000.0</td>\n",
       "      <td>USD</td>\n",
       "      <td>37030102.0</td>\n",
       "      <td>USD</td>\n",
       "      <td>7.100000e+07</td>\n",
       "    </tr>\n",
       "  </tbody>\n",
       "</table>\n",
       "<p>10 rows × 26 columns</p>\n",
       "</div>"
      ],
      "text/plain": [
       "   Title  Year_released  IMDB_rating  Reviewers  Movie_rating  Movie_duration  \\\n",
       "0    220         1994.0          9.2  2045328.0             1              51   \n",
       "1    199         1972.0          9.2  1402791.0             1              80   \n",
       "2    200         1974.0          9.0   972533.0             3              92   \n",
       "3    193         2008.0          9.0  2012714.0             8              62   \n",
       "4      0         1957.0          8.9   576027.0             3              12   \n",
       "5    166         1993.0          8.9  1058362.0             1              90   \n",
       "6    213         2003.0          8.9  1456606.0             5              91   \n",
       "7    148         1994.0          8.9  1598144.0             1              64   \n",
       "8     84         1966.0          8.8   607098.0             3              71   \n",
       "9     59         1999.0          8.8  1637140.0             1              47   \n",
       "\n",
       "   Genre1  Genre2  Genre3  Genre4           ...             Stars2  Stars3  \\\n",
       "0       6       0       0       0           ...                156      24   \n",
       "1       5       6       0       0           ...                  2      97   \n",
       "2       5       6       0       0           ...                179     188   \n",
       "3       0       5       4      12           ...                 79       0   \n",
       "4       6       0       0       0           ...                126     145   \n",
       "5       3       6       8       0           ...                174      19   \n",
       "6       1       6       6       0           ...                218      89   \n",
       "7       5       6       0       0           ...                217     198   \n",
       "8      11       0       0       0           ...                 48     132   \n",
       "9       6       0       0       0           ...                 46     152   \n",
       "\n",
       "   Stars4  Stars5  Budget_curr   Budget_val  Gross_USA_curr  Gross_USA_val  \\\n",
       "0       0       0          USD   25000000.0             USD     28341469.0   \n",
       "1       0       0          USD    6000000.0             USD    134966411.0   \n",
       "2       0       0          USD   13000000.0             USD     57300000.0   \n",
       "3       0       0          USD  185000000.0             USD    534858444.0   \n",
       "4       0       0          USD     350000.0             USD      4360000.0   \n",
       "5       0       0          USD   22000000.0             USD     96067179.0   \n",
       "6       0       0          USD   94000000.0             USD    377845905.0   \n",
       "7       0       0          USD    8000000.0             USD    107928762.0   \n",
       "8       0       0          USD    1200000.0             USD      6100000.0   \n",
       "9       0       0          USD   63000000.0             USD     37030102.0   \n",
       "\n",
       "   Cum_Gross_Worldwide_curr  Cum_Gross_Worldwide_val  \n",
       "0                       USD             5.850000e+07  \n",
       "1                       USD             2.450664e+08  \n",
       "2                       NaN             0.000000e+00  \n",
       "3                       USD             1.004558e+09  \n",
       "4                       NaN             0.000000e+00  \n",
       "5                       USD             2.210000e+08  \n",
       "6                       USD             1.119930e+09  \n",
       "7                       USD             2.139288e+08  \n",
       "8                       NaN             0.000000e+00  \n",
       "9                       USD             7.100000e+07  \n",
       "\n",
       "[10 rows x 26 columns]"
      ]
     },
     "execution_count": 23,
     "metadata": {},
     "output_type": "execute_result"
    }
   ],
   "source": [
    "dataset.head(10)"
   ]
  },
  {
   "cell_type": "code",
   "execution_count": 24,
   "metadata": {},
   "outputs": [
    {
     "data": {
      "text/plain": [
       "IMDB_rating                1.000000\n",
       "Reviewers                  0.630379\n",
       "Gross_USA_val              0.243425\n",
       "Cum_Gross_Worldwide_val    0.227400\n",
       "Title                      0.140882\n",
       "Movie_duration             0.121539\n",
       "Writer2                    0.042609\n",
       "Stars1                     0.037745\n",
       "Genre1                     0.019247\n",
       "Year_released              0.012857\n",
       "Writer1                    0.005305\n",
       "Genre4                    -0.012804\n",
       "Stars2                    -0.024694\n",
       "Director                  -0.031501\n",
       "Genre3                    -0.040560\n",
       "Budget_val                -0.046781\n",
       "Release_date              -0.057237\n",
       "Movie_rating              -0.076608\n",
       "Stars3                    -0.103971\n",
       "Genre2                    -0.109854\n",
       "Writer3                         NaN\n",
       "Stars4                          NaN\n",
       "Stars5                          NaN\n",
       "Name: IMDB_rating, dtype: float64"
      ]
     },
     "execution_count": 24,
     "metadata": {},
     "output_type": "execute_result"
    }
   ],
   "source": [
    "# Getting correlation of varaibles to IMDB rating\n",
    "dataset[dataset.columns[0:]].corr()['IMDB_rating'].sort_values(ascending=False)"
   ]
  },
  {
   "cell_type": "markdown",
   "metadata": {},
   "source": [
    "__Spltting the database__:\n",
    "- Splitting the dataframe into train(80%) and test(20%). The target and the predictors can be defined as seperate lists and model building can be carried out accordingly.\n",
    "- (Optional) The predictors and the target variables can beseperated into X and y and then thse two dataframes can be split (80-20), but it depends on individuals preference"
   ]
  },
  {
   "cell_type": "code",
   "execution_count": 25,
   "metadata": {},
   "outputs": [],
   "source": [
    "# Splitting the dataset into the Training set and Test set\n",
    "from sklearn.model_selection import train_test_split\n",
    "train,test = train_test_split(dataset, test_size = 0.2, random_state = 0)"
   ]
  },
  {
   "cell_type": "code",
   "execution_count": 26,
   "metadata": {},
   "outputs": [
    {
     "data": {
      "text/plain": [
       "((200, 26), (50, 26))"
      ]
     },
     "execution_count": 26,
     "metadata": {},
     "output_type": "execute_result"
    }
   ],
   "source": [
    "train.shape, test.shape"
   ]
  },
  {
   "cell_type": "markdown",
   "metadata": {},
   "source": [
    "### 5.0 Machine Learning - Model Buidling"
   ]
  },
  {
   "cell_type": "markdown",
   "metadata": {},
   "source": [
    "#### UDF - User defined function \n",
    "A user defined function which will carry out the following taks;\n",
    "- Fit the model to the dataset\n",
    "- Predict values from the trained model\n",
    "- Generate report on __RMSE and MAPE__"
   ]
  },
  {
   "cell_type": "code",
   "execution_count": 32,
   "metadata": {},
   "outputs": [
    {
     "data": {
      "text/plain": [
       "<module 'support.algFit' from 'C:\\\\Users\\\\Nags\\\\AppData\\\\Local\\\\Programs\\\\Python\\\\Python37\\\\Scripts\\\\Nagesh Python Notebooks\\\\IMDB Web scraping\\\\support\\\\algFit.py'>"
      ]
     },
     "execution_count": 32,
     "metadata": {},
     "output_type": "execute_result"
    }
   ],
   "source": [
    "# Importing function to test the model and provide results\n",
    "from support.algFit import algorthm_test\n",
    "import sys, importlib\n",
    "importlib.reload(sys.modules['support.algFit'])"
   ]
  },
  {
   "cell_type": "markdown",
   "metadata": {},
   "source": [
    "__Assigning targets and predictors__"
   ]
  },
  {
   "cell_type": "code",
   "execution_count": 28,
   "metadata": {},
   "outputs": [],
   "source": [
    "# Create different list of different predictors / varaibles for model building\n",
    "top_corr= ['Reviewers','Gross_USA_val','Cum_Gross_Worldwide_val','Movie_duration','Stars1','Genre1','Year_released','Writer1']\n",
    "top_three = ['Reviewers','Gross_USA_val','Cum_Gross_Worldwide_val']\n",
    "predictors = ['Year_released', 'Reviewers', 'Movie_rating', 'Movie_duration','Genre1', 'Genre2', 'Genre3', \n",
    "              'Genre4', 'Release_date', 'Director','Writer1', 'Writer2', 'Stars1', 'Stars2',\n",
    "              'Stars3', 'Stars4', 'Stars5', 'Budget_val','Gross_USA_val', 'Cum_Gross_Worldwide_val']\n",
    "\n",
    "target = 'IMDB_rating'"
   ]
  },
  {
   "cell_type": "markdown",
   "metadata": {},
   "source": [
    "#### 5.1 Linear Regression Model"
   ]
  },
  {
   "cell_type": "code",
   "execution_count": 29,
   "metadata": {},
   "outputs": [],
   "source": [
    "# Building a linear regression model \n",
    "np.random.seed(123)\n",
    "from sklearn.linear_model import LinearRegression\n",
    "lin_alg = LinearRegression(normalize=True)"
   ]
  },
  {
   "cell_type": "code",
   "execution_count": 33,
   "metadata": {},
   "outputs": [
    {
     "name": "stdout",
     "output_type": "stream",
     "text": [
      "\n",
      "------Model Report----\n",
      "RMSE : 15.806%\n",
      "MAPE Error: 1.566%\n",
      "CV Score Mean : 0.2041\n",
      "CV Score Std : 0.1415\n",
      "\n",
      "----------Sample values---\n",
      "y_true values [8.  8.2 8.3 8.1 8.1 8.1 8.1 8.3]\n",
      "y_pred values [8.3 8.2 8.2 8.4 8.2 8.3 8.2 8. ]\n"
     ]
    }
   ],
   "source": [
    "# checking results with all the predictors\n",
    "algorthm_test(lin_alg, train, test, predictors, target)"
   ]
  },
  {
   "cell_type": "code",
   "execution_count": 34,
   "metadata": {},
   "outputs": [
    {
     "name": "stdout",
     "output_type": "stream",
     "text": [
      "\n",
      "------Model Report----\n",
      "RMSE : 16.339%\n",
      "MAPE Error: 1.538%\n",
      "CV Score Mean : 0.1677\n",
      "CV Score Std : 0.04378\n",
      "\n",
      "----------Sample values---\n",
      "y_true values [8.  8.2 8.3 8.1 8.1 8.1 8.1 8.3]\n",
      "y_pred values [8.3 8.2 8.2 8.4 8.2 8.2 8.1 8.1]\n"
     ]
    }
   ],
   "source": [
    "# checking results with top correlating variables\n",
    "algorthm_test(lin_alg, train, test, top_corr, target)"
   ]
  },
  {
   "cell_type": "code",
   "execution_count": 35,
   "metadata": {},
   "outputs": [
    {
     "name": "stdout",
     "output_type": "stream",
     "text": [
      "\n",
      "------Model Report----\n",
      "RMSE : 17.359%\n",
      "MAPE Error: 1.730%\n",
      "CV Score Mean : 0.1759\n",
      "CV Score Std : 0.03742\n",
      "\n",
      "----------Sample values---\n",
      "y_true values [8.  8.2 8.3 8.1 8.1 8.1 8.1 8.3]\n",
      "y_pred values [8.4 8.3 8.2 8.4 8.1 8.1 8.2 8.1]\n"
     ]
    }
   ],
   "source": [
    "# checking results with top_three correlating variables\n",
    "algorthm_test(lin_alg, train, test, top_three, target)"
   ]
  },
  {
   "cell_type": "markdown",
   "metadata": {},
   "source": [
    "#### 5.2 Ridge Regression Model:"
   ]
  },
  {
   "cell_type": "code",
   "execution_count": 36,
   "metadata": {},
   "outputs": [],
   "source": [
    "### Ridge Regression Model:\n",
    "np.random.seed(123)\n",
    "from sklearn.linear_model import Ridge\n",
    "rdg_alg = Ridge(alpha=0.05,normalize=True)"
   ]
  },
  {
   "cell_type": "code",
   "execution_count": 37,
   "metadata": {},
   "outputs": [
    {
     "name": "stdout",
     "output_type": "stream",
     "text": [
      "\n",
      "------Model Report----\n",
      "RMSE : 15.982%\n",
      "MAPE Error: 1.542%\n",
      "CV Score Mean : 0.2063\n",
      "CV Score Std : 0.1465\n",
      "\n",
      "----------Sample values---\n",
      "y_true values [8.  8.2 8.3 8.1 8.1 8.1 8.1 8.3]\n",
      "y_pred values [8.3 8.2 8.2 8.3 8.2 8.3 8.2 8.1]\n"
     ]
    }
   ],
   "source": [
    "# checking results with all the predictors\n",
    "algorthm_test(rdg_alg, train, test, predictors, target)"
   ]
  },
  {
   "cell_type": "code",
   "execution_count": 38,
   "metadata": {},
   "outputs": [
    {
     "name": "stdout",
     "output_type": "stream",
     "text": [
      "\n",
      "------Model Report----\n",
      "RMSE : 16.499%\n",
      "MAPE Error: 1.466%\n",
      "CV Score Mean : 0.1689\n",
      "CV Score Std : 0.04071\n",
      "\n",
      "----------Sample values---\n",
      "y_true values [8.  8.2 8.3 8.1 8.1 8.1 8.1 8.3]\n",
      "y_pred values [8.3 8.2 8.2 8.4 8.2 8.2 8.1 8.1]\n"
     ]
    }
   ],
   "source": [
    "# checking results with top correlating variables\n",
    "algorthm_test(rdg_alg, train, test, top_corr, target)"
   ]
  },
  {
   "cell_type": "markdown",
   "metadata": {},
   "source": [
    "#### 5.3 Decision Tree Model"
   ]
  },
  {
   "cell_type": "code",
   "execution_count": 39,
   "metadata": {},
   "outputs": [],
   "source": [
    "# Building a Decision Tree regression model \n",
    "np.random.seed(123)\n",
    "from sklearn.tree import DecisionTreeRegressor\n",
    "dec_alg = DecisionTreeRegressor(max_depth=5, min_samples_leaf=5)"
   ]
  },
  {
   "cell_type": "code",
   "execution_count": 40,
   "metadata": {},
   "outputs": [
    {
     "name": "stdout",
     "output_type": "stream",
     "text": [
      "\n",
      "------Model Report----\n",
      "RMSE : 12.200%\n",
      "MAPE Error: 1.738%\n",
      "CV Score Mean : 0.2148\n",
      "CV Score Std : 0.05216\n",
      "\n",
      "----------Sample values---\n",
      "y_true values [8.  8.2 8.3 8.1 8.1 8.1 8.1 8.3]\n",
      "y_pred values [8.2 8.2 8.4 8.2 8.1 8.2 8.1 8.1]\n"
     ]
    }
   ],
   "source": [
    "# checking results with all the predictors\n",
    "algorthm_test(dec_alg, train, test, predictors, target)"
   ]
  },
  {
   "cell_type": "code",
   "execution_count": 41,
   "metadata": {},
   "outputs": [
    {
     "name": "stdout",
     "output_type": "stream",
     "text": [
      "\n",
      "------Model Report----\n",
      "RMSE : 12.110%\n",
      "MAPE Error: 1.664%\n",
      "CV Score Mean : 0.1934\n",
      "CV Score Std : 0.03897\n",
      "\n",
      "----------Sample values---\n",
      "y_true values [8.  8.2 8.3 8.1 8.1 8.1 8.1 8.3]\n",
      "y_pred values [8.2 8.1 8.3 8.2 8.2 8.2 8.2 8.1]\n"
     ]
    }
   ],
   "source": [
    "# checking results with top correlating variables\n",
    "algorthm_test(dec_alg, train, test, top_corr, target)"
   ]
  },
  {
   "cell_type": "markdown",
   "metadata": {},
   "source": [
    "#### 5.4 Random Forest Model"
   ]
  },
  {
   "cell_type": "code",
   "execution_count": 42,
   "metadata": {},
   "outputs": [],
   "source": [
    "### Random Forest Model\n",
    "np.random.seed(123)\n",
    "from sklearn.ensemble import RandomForestRegressor\n",
    "rand_alg = RandomForestRegressor(n_estimators=5,max_depth=5, min_samples_leaf=3,n_jobs=1)"
   ]
  },
  {
   "cell_type": "code",
   "execution_count": 43,
   "metadata": {},
   "outputs": [
    {
     "name": "stdout",
     "output_type": "stream",
     "text": [
      "\n",
      "------Model Report----\n",
      "RMSE : 12.541%\n",
      "MAPE Error: 1.451%\n",
      "CV Score Mean : 0.1722\n",
      "CV Score Std : 0.03538\n",
      "\n",
      "----------Sample values---\n",
      "y_true values [8.  8.2 8.3 8.1 8.1 8.1 8.1 8.3]\n",
      "y_pred values [8.2 8.1 8.2 8.2 8.2 8.5 8.3 8.2]\n"
     ]
    }
   ],
   "source": [
    "# checking results with all the predictors\n",
    "algorthm_test(rand_alg, train, test, predictors, target)"
   ]
  },
  {
   "cell_type": "code",
   "execution_count": 44,
   "metadata": {},
   "outputs": [
    {
     "name": "stdout",
     "output_type": "stream",
     "text": [
      "\n",
      "------Model Report----\n",
      "RMSE : 12.140%\n",
      "MAPE Error: 1.472%\n",
      "CV Score Mean : 0.1693\n",
      "CV Score Std : 0.03438\n",
      "\n",
      "----------Sample values---\n",
      "y_true values [8.  8.2 8.3 8.1 8.1 8.1 8.1 8.3]\n",
      "y_pred values [8.2 8.2 8.3 8.2 8.2 8.3 8.2 8.1]\n"
     ]
    }
   ],
   "source": [
    "# checking results with top correlating variables\n",
    "algorthm_test(rand_alg, train, test, top_corr, target)"
   ]
  },
  {
   "cell_type": "markdown",
   "metadata": {},
   "source": [
    "----"
   ]
  },
  {
   "cell_type": "markdown",
   "metadata": {},
   "source": [
    "### Conclusion\n",
    "\n",
    "- Based on the RMSE and MAPE results, it can be observed that __Decision tree / Random forest models__ results in low MAPE error\n",
    "- _Improvements_:\n",
    "    - Variable (predictors) selection for model building should be improved by further analysis. Predictors cannot be choosed just from the correlation with target - IMDB_rating.\n",
    "    - Decision tree and Random Forest Models can be further improved by using 'GridSearch' and 'XGBoost' "
   ]
  }
 ],
 "metadata": {
  "hide_code_all_hidden": false,
  "kernelspec": {
   "display_name": "Python 3",
   "language": "python",
   "name": "python3"
  },
  "language_info": {
   "codemirror_mode": {
    "name": "ipython",
    "version": 3
   },
   "file_extension": ".py",
   "mimetype": "text/x-python",
   "name": "python",
   "nbconvert_exporter": "python",
   "pygments_lexer": "ipython3",
   "version": "3.7.0"
  }
 },
 "nbformat": 4,
 "nbformat_minor": 2
}
